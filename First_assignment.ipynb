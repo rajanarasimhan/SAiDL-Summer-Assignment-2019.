{
 "cells": [
  {
   "cell_type": "code",
   "execution_count": 1,
   "metadata": {},
   "outputs": [],
   "source": [
    "import numpy as np"
   ]
  },
  {
   "cell_type": "code",
   "execution_count": 2,
   "metadata": {},
   "outputs": [],
   "source": [
    "def sigmoid (x):\n",
    "    return 1/(1 + np.exp(-x))\n",
    "\n",
    "def sigmoid_derivative(x): #here x = (1/(1+exp(-y))) where y is some random number\n",
    "    return x * (1 - x)"
   ]
  },
  {
   "cell_type": "code",
   "execution_count": 3,
   "metadata": {},
   "outputs": [],
   "source": [
    "def trainxor():\n",
    "    X = np.array([[0,0],[0,1],[1,0],[1,1]]) #training inputs\n",
    "    y = np.array([[0],[1],[1],[0]])         #training outputs\n",
    "    epochs = 10000 # number of iterations\n",
    "    alpha = 0.1    # learning rates\n",
    "    no_inputs, no_hidden, no_outputs = 2,2,1\n",
    "    w1 = np.random.uniform(size=(no_inputs,no_hidden))\n",
    "    b1 = np.random.uniform(size=(1,no_hidden))\n",
    "    w2 = np.random.uniform(size=(no_hidden,no_outputs))\n",
    "    b2 = np.random.uniform(size=(1,no_outputs))\n",
    "    for _ in range(epochs):\n",
    "        Z1 = np.dot(X,w1)\n",
    "        Z1 += b1\n",
    "        a1 = sigmoid(Z1)\n",
    "        Z2 = np.dot(a1,w2)\n",
    "        Z2 += b2\n",
    "        y_hat = sigmoid(Z2)\n",
    "        error = y - y_hat\n",
    "        d_y_hat = error * sigmoid_derivative(y_hat)\n",
    "        error_hidden_layer = d_y_hat.dot(w2.T)\n",
    "        d_hidden_layer = error_hidden_layer * sigmoid_derivative(a1)\n",
    "        w2 += a1.T.dot(d_y_hat) * alpha\n",
    "        b2 += np.sum(d_y_hat,axis=0,keepdims=True) * alpha\n",
    "        w1 += X.T.dot(d_hidden_layer) * alpha\n",
    "        b1 += np.sum(d_hidden_layer,axis=0,keepdims=True) * alpha\n",
    "    return [w1,w2,b1,b2]\n"
   ]
  },
  {
   "cell_type": "code",
   "execution_count": 4,
   "metadata": {},
   "outputs": [],
   "source": [
    "def trainxnor():\n",
    "    X = np.array([[0,0],[0,1],[1,0],[1,1]])\n",
    "    y = np.array([[1],[0],[0],[1]])\n",
    "    epochs = 10000\n",
    "    alpha = 0.1\n",
    "    no_inputs, no_hidden, no_outputs = 2,2,1\n",
    "    w1 = np.random.uniform(size=(no_inputs,no_hidden))\n",
    "    b1 = np.random.uniform(size=(1,no_hidden))\n",
    "    w2 = np.random.uniform(size=(no_hidden,no_outputs))\n",
    "    b2 = np.random.uniform(size=(1,no_outputs))\n",
    "    for _ in range(epochs):\n",
    "        Z1 = np.dot(X,w1)\n",
    "        Z1 += b1\n",
    "        a1 = sigmoid(Z1)\n",
    "        Z2 = np.dot(a1,w2)\n",
    "        Z2 += b2\n",
    "        y_hat = sigmoid(Z2)\n",
    "        error = y - y_hat\n",
    "        d_y_hat = error * sigmoid_derivative(y_hat)\n",
    "        error_hidden_layer = d_y_hat.dot(w2.T)\n",
    "        d_hidden_layer = error_hidden_layer * sigmoid_derivative(a1)\n",
    "        w2 += a1.T.dot(d_y_hat) * alpha\n",
    "        b2 += np.sum(d_y_hat,axis=0,keepdims=True) * alpha\n",
    "        w1 += X.T.dot(d_hidden_layer) * alpha\n",
    "        b1 += np.sum(d_hidden_layer,axis=0,keepdims=True) * alpha\n",
    "    return [w1,w2,b1,b2]"
   ]
  },
  {
   "cell_type": "code",
   "execution_count": 40,
   "metadata": {},
   "outputs": [
    {
     "name": "stdout",
     "output_type": "stream",
     "text": [
      "Input:1\n",
      "Input:0\n",
      "Input:0\n",
      "Input:1\n",
      "Input:1\n",
      "[[0.]\n",
      " [0.]]\n"
     ]
    }
   ],
   "source": [
    "my_array = []\n",
    "\n",
    "for i in range(5):\n",
    "    my_array.append(float(input(\"Input:\")))\n",
    "my_array = np.array(my_array)\n",
    "ab = np.array([[my_array[0],my_array[1]],[my_array[2],my_array[3]]])\n",
    "if my_array[4] == 0:\n",
    "    value = trainxor()\n",
    "    Z12 = np.dot(ab,value[0])\n",
    "    Z12 += value[2]\n",
    "    a12 = sigmoid(Z12)\n",
    "\n",
    "    Z23 = np.dot(a12,value[1])\n",
    "    Z23 += value[3]\n",
    "    y_ = sigmoid(Z23)\n",
    "    y_[0][0] = round(y_[0][0])\n",
    "    y_[1][0] = round(y_[1][0])\n",
    "    print(y_)\n",
    "if my_array[4] == 1:\n",
    "    value = trainxnor()\n",
    "    Z12 = np.dot(ab,value[0])\n",
    "    Z12 += value[2]\n",
    "    a12 = sigmoid(Z12)\n",
    "\n",
    "    Z23 = np.dot(a12,value[1])\n",
    "    Z23 += value[3]\n",
    "    y_ = sigmoid(Z23)\n",
    "    y_[0][0] = round(y_[0][0])\n",
    "    y_[1][0] = round(y_[1][0])\n",
    "    print(y_)\n",
    "\n",
    "    "
   ]
  },
  {
   "cell_type": "code",
   "execution_count": null,
   "metadata": {},
   "outputs": [],
   "source": []
  },
  {
   "cell_type": "code",
   "execution_count": null,
   "metadata": {},
   "outputs": [],
   "source": []
  },
  {
   "cell_type": "code",
   "execution_count": null,
   "metadata": {},
   "outputs": [],
   "source": []
  }
 ],
 "metadata": {
  "kernelspec": {
   "display_name": "Python 3",
   "language": "python",
   "name": "python3"
  },
  "language_info": {
   "codemirror_mode": {
    "name": "ipython",
    "version": 3
   },
   "file_extension": ".py",
   "mimetype": "text/x-python",
   "name": "python",
   "nbconvert_exporter": "python",
   "pygments_lexer": "ipython3",
   "version": "3.7.3"
  }
 },
 "nbformat": 4,
 "nbformat_minor": 2
}
